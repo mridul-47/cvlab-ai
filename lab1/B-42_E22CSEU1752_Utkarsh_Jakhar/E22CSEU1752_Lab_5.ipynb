{
  "nbformat": 4,
  "nbformat_minor": 0,
  "metadata": {
    "colab": {
      "provenance": []
    },
    "kernelspec": {
      "name": "python3",
      "display_name": "Python 3"
    },
    "language_info": {
      "name": "python"
    }
  },
  "cells": [
    {
      "cell_type": "code",
      "execution_count": 1,
      "metadata": {
        "colab": {
          "base_uri": "https://localhost:8080/"
        },
        "id": "VG1Lw30neG7w",
        "outputId": "e56ce04d-a9e6-4cb9-bcce-3451741a9688"
      },
      "outputs": [
        {
          "output_type": "stream",
          "name": "stdout",
          "text": [
            "JPEG compression completed. Compressed image saved as compressed_image.jpg\n"
          ]
        }
      ],
      "source": [
        "from PIL import Image\n",
        "\n",
        "# Load the image\n",
        "image_path = \"image.jpg\"\n",
        "image = Image.open(image_path)\n",
        "\n",
        "# Perform JPEG compression (lossy)\n",
        "compressed_image_path = \"compressed_image.jpg\"\n",
        "quality = 50  # Adjust quality (1-100, lower means more compression)\n",
        "image.save(compressed_image_path, \"JPEG\", quality=quality)\n",
        "\n",
        "print(f\"JPEG compression completed. Compressed image saved as {compressed_image_path}\")"
      ]
    },
    {
      "cell_type": "code",
      "source": [
        "# Perform PNG compression (lossless)\n",
        "compressed_image_path = \"compressed_image.png\"\n",
        "image.save(compressed_image_path, \"PNG\", optimize=True)\n",
        "\n",
        "print(f\"PNG compression completed. Compressed image saved as {compressed_image_path}\")"
      ],
      "metadata": {
        "colab": {
          "base_uri": "https://localhost:8080/"
        },
        "id": "65cnHC1ueW7l",
        "outputId": "59b68fb1-517a-46d8-d437-09830f08e36a"
      },
      "execution_count": 2,
      "outputs": [
        {
          "output_type": "stream",
          "name": "stdout",
          "text": [
            "PNG compression completed. Compressed image saved as compressed_image.png\n"
          ]
        }
      ]
    },
    {
      "cell_type": "code",
      "source": [
        "import numpy as np\n",
        "import tensorflow as tf\n",
        "from tensorflow.keras.datasets import mnist, cifar10\n",
        "from tensorflow.keras.models import Sequential\n",
        "from tensorflow.keras.layers import Conv2D, MaxPooling2D, Flatten, Dense, Dropout\n",
        "from tensorflow.keras.utils import to_categorical\n",
        "from sklearn.metrics import accuracy_score, precision_score, recall_score, f1_score, confusion_matrix, roc_curve, auc\n",
        "import matplotlib.pyplot as plt"
      ],
      "metadata": {
        "id": "7SbbQDtreZ3L"
      },
      "execution_count": 3,
      "outputs": []
    },
    {
      "cell_type": "code",
      "source": [
        "# Load MNIST dataset\n",
        "(x_train_mnist, y_train_mnist), (x_test_mnist, y_test_mnist) = mnist.load_data()\n",
        "\n",
        "# Reshape and normalize data\n",
        "x_train_mnist = x_train_mnist.reshape(-1, 28, 28, 1).astype('float32') / 255.0\n",
        "x_test_mnist = x_test_mnist.reshape(-1, 28, 28, 1).astype('float32') / 255.0\n",
        "\n",
        "# One-hot encode labels\n",
        "y_train_mnist = to_categorical(y_train_mnist, 10)\n",
        "y_test_mnist = to_categorical(y_test_mnist, 10)"
      ],
      "metadata": {
        "colab": {
          "base_uri": "https://localhost:8080/"
        },
        "id": "c-H1AmHaecVC",
        "outputId": "a492590b-e027-4899-b260-a8dc914083d4"
      },
      "execution_count": 4,
      "outputs": [
        {
          "output_type": "stream",
          "name": "stdout",
          "text": [
            "Downloading data from https://storage.googleapis.com/tensorflow/tf-keras-datasets/mnist.npz\n",
            "\u001b[1m11490434/11490434\u001b[0m \u001b[32m━━━━━━━━━━━━━━━━━━━━\u001b[0m\u001b[37m\u001b[0m \u001b[1m0s\u001b[0m 0us/step\n"
          ]
        }
      ]
    },
    {
      "cell_type": "code",
      "source": [
        "# Define CNN model\n",
        "model_mnist = Sequential([\n",
        "    Conv2D(32, (3, 3), activation='relu', input_shape=(28, 28, 1)),\n",
        "    MaxPooling2D((2, 2)),\n",
        "    Conv2D(64, (3, 3), activation='relu'),\n",
        "    MaxPooling2D((2, 2)),\n",
        "    Flatten(),\n",
        "    Dense(128, activation='relu'),\n",
        "    Dropout(0.5),\n",
        "    Dense(10, activation='softmax')\n",
        "])\n",
        "\n",
        "# Compile the model\n",
        "model_mnist.compile(optimizer='adam', loss='categorical_crossentropy', metrics=['accuracy'])\n",
        "\n",
        "# Train the model\n",
        "history_mnist = model_mnist.fit(x_train_mnist, y_train_mnist, epochs=50, batch_size=128, validation_split=0.2)"
      ],
      "metadata": {
        "colab": {
          "base_uri": "https://localhost:8080/"
        },
        "id": "Dt6MB9TtefG3",
        "outputId": "9c5c858c-1f91-4013-9c2b-c2bea6dc7cbc"
      },
      "execution_count": 5,
      "outputs": [
        {
          "output_type": "stream",
          "name": "stderr",
          "text": [
            "/usr/local/lib/python3.11/dist-packages/keras/src/layers/convolutional/base_conv.py:107: UserWarning: Do not pass an `input_shape`/`input_dim` argument to a layer. When using Sequential models, prefer using an `Input(shape)` object as the first layer in the model instead.\n",
            "  super().__init__(activity_regularizer=activity_regularizer, **kwargs)\n"
          ]
        },
        {
          "output_type": "stream",
          "name": "stdout",
          "text": [
            "Epoch 1/50\n",
            "\u001b[1m375/375\u001b[0m \u001b[32m━━━━━━━━━━━━━━━━━━━━\u001b[0m\u001b[37m\u001b[0m \u001b[1m56s\u001b[0m 143ms/step - accuracy: 0.7876 - loss: 0.6832 - val_accuracy: 0.9769 - val_loss: 0.0778\n",
            "Epoch 2/50\n",
            "\u001b[1m375/375\u001b[0m \u001b[32m━━━━━━━━━━━━━━━━━━━━\u001b[0m\u001b[37m\u001b[0m \u001b[1m39s\u001b[0m 104ms/step - accuracy: 0.9651 - loss: 0.1160 - val_accuracy: 0.9835 - val_loss: 0.0537\n",
            "Epoch 3/50\n",
            "\u001b[1m375/375\u001b[0m \u001b[32m━━━━━━━━━━━━━━━━━━━━\u001b[0m\u001b[37m\u001b[0m \u001b[1m41s\u001b[0m 106ms/step - accuracy: 0.9766 - loss: 0.0799 - val_accuracy: 0.9859 - val_loss: 0.0472\n",
            "Epoch 4/50\n",
            "\u001b[1m375/375\u001b[0m \u001b[32m━━━━━━━━━━━━━━━━━━━━\u001b[0m\u001b[37m\u001b[0m \u001b[1m42s\u001b[0m 108ms/step - accuracy: 0.9809 - loss: 0.0640 - val_accuracy: 0.9868 - val_loss: 0.0446\n",
            "Epoch 5/50\n",
            "\u001b[1m375/375\u001b[0m \u001b[32m━━━━━━━━━━━━━━━━━━━━\u001b[0m\u001b[37m\u001b[0m \u001b[1m38s\u001b[0m 100ms/step - accuracy: 0.9840 - loss: 0.0558 - val_accuracy: 0.9882 - val_loss: 0.0401\n",
            "Epoch 6/50\n",
            "\u001b[1m375/375\u001b[0m \u001b[32m━━━━━━━━━━━━━━━━━━━━\u001b[0m\u001b[37m\u001b[0m \u001b[1m44s\u001b[0m 109ms/step - accuracy: 0.9861 - loss: 0.0439 - val_accuracy: 0.9897 - val_loss: 0.0379\n",
            "Epoch 7/50\n",
            "\u001b[1m375/375\u001b[0m \u001b[32m━━━━━━━━━━━━━━━━━━━━\u001b[0m\u001b[37m\u001b[0m \u001b[1m41s\u001b[0m 108ms/step - accuracy: 0.9878 - loss: 0.0387 - val_accuracy: 0.9892 - val_loss: 0.0367\n",
            "Epoch 8/50\n",
            "\u001b[1m375/375\u001b[0m \u001b[32m━━━━━━━━━━━━━━━━━━━━\u001b[0m\u001b[37m\u001b[0m \u001b[1m39s\u001b[0m 102ms/step - accuracy: 0.9886 - loss: 0.0354 - val_accuracy: 0.9903 - val_loss: 0.0359\n",
            "Epoch 9/50\n",
            "\u001b[1m375/375\u001b[0m \u001b[32m━━━━━━━━━━━━━━━━━━━━\u001b[0m\u001b[37m\u001b[0m \u001b[1m42s\u001b[0m 104ms/step - accuracy: 0.9889 - loss: 0.0337 - val_accuracy: 0.9899 - val_loss: 0.0381\n",
            "Epoch 10/50\n",
            "\u001b[1m375/375\u001b[0m \u001b[32m━━━━━━━━━━━━━━━━━━━━\u001b[0m\u001b[37m\u001b[0m \u001b[1m41s\u001b[0m 109ms/step - accuracy: 0.9908 - loss: 0.0277 - val_accuracy: 0.9901 - val_loss: 0.0360\n",
            "Epoch 11/50\n",
            "\u001b[1m375/375\u001b[0m \u001b[32m━━━━━━━━━━━━━━━━━━━━\u001b[0m\u001b[37m\u001b[0m \u001b[1m46s\u001b[0m 122ms/step - accuracy: 0.9932 - loss: 0.0216 - val_accuracy: 0.9911 - val_loss: 0.0323\n",
            "Epoch 12/50\n",
            "\u001b[1m375/375\u001b[0m \u001b[32m━━━━━━━━━━━━━━━━━━━━\u001b[0m\u001b[37m\u001b[0m \u001b[1m77s\u001b[0m 108ms/step - accuracy: 0.9935 - loss: 0.0204 - val_accuracy: 0.9909 - val_loss: 0.0345\n",
            "Epoch 13/50\n",
            "\u001b[1m375/375\u001b[0m \u001b[32m━━━━━━━━━━━━━━━━━━━━\u001b[0m\u001b[37m\u001b[0m \u001b[1m39s\u001b[0m 102ms/step - accuracy: 0.9928 - loss: 0.0214 - val_accuracy: 0.9903 - val_loss: 0.0375\n",
            "Epoch 14/50\n",
            "\u001b[1m375/375\u001b[0m \u001b[32m━━━━━━━━━━━━━━━━━━━━\u001b[0m\u001b[37m\u001b[0m \u001b[1m42s\u001b[0m 104ms/step - accuracy: 0.9940 - loss: 0.0190 - val_accuracy: 0.9915 - val_loss: 0.0323\n",
            "Epoch 15/50\n",
            "\u001b[1m375/375\u001b[0m \u001b[32m━━━━━━━━━━━━━━━━━━━━\u001b[0m\u001b[37m\u001b[0m \u001b[1m40s\u001b[0m 106ms/step - accuracy: 0.9942 - loss: 0.0185 - val_accuracy: 0.9922 - val_loss: 0.0339\n",
            "Epoch 16/50\n",
            "\u001b[1m375/375\u001b[0m \u001b[32m━━━━━━━━━━━━━━━━━━━━\u001b[0m\u001b[37m\u001b[0m \u001b[1m39s\u001b[0m 103ms/step - accuracy: 0.9932 - loss: 0.0197 - val_accuracy: 0.9914 - val_loss: 0.0373\n",
            "Epoch 17/50\n",
            "\u001b[1m375/375\u001b[0m \u001b[32m━━━━━━━━━━━━━━━━━━━━\u001b[0m\u001b[37m\u001b[0m \u001b[1m41s\u001b[0m 102ms/step - accuracy: 0.9951 - loss: 0.0148 - val_accuracy: 0.9912 - val_loss: 0.0386\n",
            "Epoch 18/50\n",
            "\u001b[1m375/375\u001b[0m \u001b[32m━━━━━━━━━━━━━━━━━━━━\u001b[0m\u001b[37m\u001b[0m \u001b[1m40s\u001b[0m 105ms/step - accuracy: 0.9959 - loss: 0.0119 - val_accuracy: 0.9912 - val_loss: 0.0371\n",
            "Epoch 19/50\n",
            "\u001b[1m375/375\u001b[0m \u001b[32m━━━━━━━━━━━━━━━━━━━━\u001b[0m\u001b[37m\u001b[0m \u001b[1m40s\u001b[0m 103ms/step - accuracy: 0.9961 - loss: 0.0114 - val_accuracy: 0.9918 - val_loss: 0.0382\n",
            "Epoch 20/50\n",
            "\u001b[1m375/375\u001b[0m \u001b[32m━━━━━━━━━━━━━━━━━━━━\u001b[0m\u001b[37m\u001b[0m \u001b[1m41s\u001b[0m 104ms/step - accuracy: 0.9959 - loss: 0.0114 - val_accuracy: 0.9913 - val_loss: 0.0404\n",
            "Epoch 21/50\n",
            "\u001b[1m375/375\u001b[0m \u001b[32m━━━━━━━━━━━━━━━━━━━━\u001b[0m\u001b[37m\u001b[0m \u001b[1m40s\u001b[0m 101ms/step - accuracy: 0.9958 - loss: 0.0118 - val_accuracy: 0.9911 - val_loss: 0.0386\n",
            "Epoch 22/50\n",
            "\u001b[1m375/375\u001b[0m \u001b[32m━━━━━━━━━━━━━━━━━━━━\u001b[0m\u001b[37m\u001b[0m \u001b[1m41s\u001b[0m 101ms/step - accuracy: 0.9965 - loss: 0.0104 - val_accuracy: 0.9908 - val_loss: 0.0403\n",
            "Epoch 23/50\n",
            "\u001b[1m375/375\u001b[0m \u001b[32m━━━━━━━━━━━━━━━━━━━━\u001b[0m\u001b[37m\u001b[0m \u001b[1m42s\u001b[0m 113ms/step - accuracy: 0.9968 - loss: 0.0105 - val_accuracy: 0.9913 - val_loss: 0.0458\n",
            "Epoch 24/50\n",
            "\u001b[1m375/375\u001b[0m \u001b[32m━━━━━━━━━━━━━━━━━━━━\u001b[0m\u001b[37m\u001b[0m \u001b[1m81s\u001b[0m 111ms/step - accuracy: 0.9957 - loss: 0.0117 - val_accuracy: 0.9919 - val_loss: 0.0367\n",
            "Epoch 25/50\n",
            "\u001b[1m375/375\u001b[0m \u001b[32m━━━━━━━━━━━━━━━━━━━━\u001b[0m\u001b[37m\u001b[0m \u001b[1m82s\u001b[0m 110ms/step - accuracy: 0.9966 - loss: 0.0093 - val_accuracy: 0.9923 - val_loss: 0.0386\n",
            "Epoch 26/50\n",
            "\u001b[1m375/375\u001b[0m \u001b[32m━━━━━━━━━━━━━━━━━━━━\u001b[0m\u001b[37m\u001b[0m \u001b[1m80s\u001b[0m 106ms/step - accuracy: 0.9961 - loss: 0.0108 - val_accuracy: 0.9925 - val_loss: 0.0421\n",
            "Epoch 27/50\n",
            "\u001b[1m375/375\u001b[0m \u001b[32m━━━━━━━━━━━━━━━━━━━━\u001b[0m\u001b[37m\u001b[0m \u001b[1m41s\u001b[0m 108ms/step - accuracy: 0.9970 - loss: 0.0088 - val_accuracy: 0.9920 - val_loss: 0.0415\n",
            "Epoch 28/50\n",
            "\u001b[1m375/375\u001b[0m \u001b[32m━━━━━━━━━━━━━━━━━━━━\u001b[0m\u001b[37m\u001b[0m \u001b[1m39s\u001b[0m 104ms/step - accuracy: 0.9973 - loss: 0.0073 - val_accuracy: 0.9927 - val_loss: 0.0416\n",
            "Epoch 29/50\n",
            "\u001b[1m375/375\u001b[0m \u001b[32m━━━━━━━━━━━━━━━━━━━━\u001b[0m\u001b[37m\u001b[0m \u001b[1m42s\u001b[0m 107ms/step - accuracy: 0.9968 - loss: 0.0101 - val_accuracy: 0.9926 - val_loss: 0.0409\n",
            "Epoch 30/50\n",
            "\u001b[1m375/375\u001b[0m \u001b[32m━━━━━━━━━━━━━━━━━━━━\u001b[0m\u001b[37m\u001b[0m \u001b[1m39s\u001b[0m 104ms/step - accuracy: 0.9972 - loss: 0.0079 - val_accuracy: 0.9925 - val_loss: 0.0433\n",
            "Epoch 31/50\n",
            "\u001b[1m375/375\u001b[0m \u001b[32m━━━━━━━━━━━━━━━━━━━━\u001b[0m\u001b[37m\u001b[0m \u001b[1m41s\u001b[0m 105ms/step - accuracy: 0.9974 - loss: 0.0069 - val_accuracy: 0.9914 - val_loss: 0.0474\n",
            "Epoch 32/50\n",
            "\u001b[1m375/375\u001b[0m \u001b[32m━━━━━━━━━━━━━━━━━━━━\u001b[0m\u001b[37m\u001b[0m \u001b[1m42s\u001b[0m 107ms/step - accuracy: 0.9974 - loss: 0.0069 - val_accuracy: 0.9918 - val_loss: 0.0472\n",
            "Epoch 33/50\n",
            "\u001b[1m375/375\u001b[0m \u001b[32m━━━━━━━━━━━━━━━━━━━━\u001b[0m\u001b[37m\u001b[0m \u001b[1m40s\u001b[0m 103ms/step - accuracy: 0.9972 - loss: 0.0077 - val_accuracy: 0.9917 - val_loss: 0.0485\n",
            "Epoch 34/50\n",
            "\u001b[1m375/375\u001b[0m \u001b[32m━━━━━━━━━━━━━━━━━━━━\u001b[0m\u001b[37m\u001b[0m \u001b[1m41s\u001b[0m 102ms/step - accuracy: 0.9978 - loss: 0.0071 - val_accuracy: 0.9920 - val_loss: 0.0453\n",
            "Epoch 35/50\n",
            "\u001b[1m375/375\u001b[0m \u001b[32m━━━━━━━━━━━━━━━━━━━━\u001b[0m\u001b[37m\u001b[0m \u001b[1m42s\u001b[0m 104ms/step - accuracy: 0.9980 - loss: 0.0059 - val_accuracy: 0.9922 - val_loss: 0.0475\n",
            "Epoch 36/50\n",
            "\u001b[1m375/375\u001b[0m \u001b[32m━━━━━━━━━━━━━━━━━━━━\u001b[0m\u001b[37m\u001b[0m \u001b[1m43s\u001b[0m 110ms/step - accuracy: 0.9974 - loss: 0.0071 - val_accuracy: 0.9923 - val_loss: 0.0452\n",
            "Epoch 37/50\n",
            "\u001b[1m375/375\u001b[0m \u001b[32m━━━━━━━━━━━━━━━━━━━━\u001b[0m\u001b[37m\u001b[0m \u001b[1m79s\u001b[0m 103ms/step - accuracy: 0.9973 - loss: 0.0075 - val_accuracy: 0.9922 - val_loss: 0.0444\n",
            "Epoch 38/50\n",
            "\u001b[1m375/375\u001b[0m \u001b[32m━━━━━━━━━━━━━━━━━━━━\u001b[0m\u001b[37m\u001b[0m \u001b[1m41s\u001b[0m 104ms/step - accuracy: 0.9979 - loss: 0.0060 - val_accuracy: 0.9925 - val_loss: 0.0515\n",
            "Epoch 39/50\n",
            "\u001b[1m375/375\u001b[0m \u001b[32m━━━━━━━━━━━━━━━━━━━━\u001b[0m\u001b[37m\u001b[0m \u001b[1m40s\u001b[0m 102ms/step - accuracy: 0.9981 - loss: 0.0057 - val_accuracy: 0.9921 - val_loss: 0.0459\n",
            "Epoch 40/50\n",
            "\u001b[1m375/375\u001b[0m \u001b[32m━━━━━━━━━━━━━━━━━━━━\u001b[0m\u001b[37m\u001b[0m \u001b[1m40s\u001b[0m 101ms/step - accuracy: 0.9977 - loss: 0.0064 - val_accuracy: 0.9929 - val_loss: 0.0470\n",
            "Epoch 41/50\n",
            "\u001b[1m375/375\u001b[0m \u001b[32m━━━━━━━━━━━━━━━━━━━━\u001b[0m\u001b[37m\u001b[0m \u001b[1m41s\u001b[0m 102ms/step - accuracy: 0.9983 - loss: 0.0049 - val_accuracy: 0.9922 - val_loss: 0.0545\n",
            "Epoch 42/50\n",
            "\u001b[1m375/375\u001b[0m \u001b[32m━━━━━━━━━━━━━━━━━━━━\u001b[0m\u001b[37m\u001b[0m \u001b[1m47s\u001b[0m 119ms/step - accuracy: 0.9979 - loss: 0.0062 - val_accuracy: 0.9912 - val_loss: 0.0527\n",
            "Epoch 43/50\n",
            "\u001b[1m375/375\u001b[0m \u001b[32m━━━━━━━━━━━━━━━━━━━━\u001b[0m\u001b[37m\u001b[0m \u001b[1m78s\u001b[0m 107ms/step - accuracy: 0.9977 - loss: 0.0066 - val_accuracy: 0.9927 - val_loss: 0.0511\n",
            "Epoch 44/50\n",
            "\u001b[1m375/375\u001b[0m \u001b[32m━━━━━━━━━━━━━━━━━━━━\u001b[0m\u001b[37m\u001b[0m \u001b[1m42s\u001b[0m 111ms/step - accuracy: 0.9979 - loss: 0.0056 - val_accuracy: 0.9916 - val_loss: 0.0575\n",
            "Epoch 45/50\n",
            "\u001b[1m375/375\u001b[0m \u001b[32m━━━━━━━━━━━━━━━━━━━━\u001b[0m\u001b[37m\u001b[0m \u001b[1m80s\u001b[0m 107ms/step - accuracy: 0.9972 - loss: 0.0077 - val_accuracy: 0.9916 - val_loss: 0.0558\n",
            "Epoch 46/50\n",
            "\u001b[1m375/375\u001b[0m \u001b[32m━━━━━━━━━━━━━━━━━━━━\u001b[0m\u001b[37m\u001b[0m \u001b[1m43s\u001b[0m 113ms/step - accuracy: 0.9984 - loss: 0.0052 - val_accuracy: 0.9924 - val_loss: 0.0500\n",
            "Epoch 47/50\n",
            "\u001b[1m375/375\u001b[0m \u001b[32m━━━━━━━━━━━━━━━━━━━━\u001b[0m\u001b[37m\u001b[0m \u001b[1m79s\u001b[0m 106ms/step - accuracy: 0.9980 - loss: 0.0054 - val_accuracy: 0.9918 - val_loss: 0.0546\n",
            "Epoch 48/50\n",
            "\u001b[1m375/375\u001b[0m \u001b[32m━━━━━━━━━━━━━━━━━━━━\u001b[0m\u001b[37m\u001b[0m \u001b[1m42s\u001b[0m 108ms/step - accuracy: 0.9986 - loss: 0.0040 - val_accuracy: 0.9924 - val_loss: 0.0524\n",
            "Epoch 49/50\n",
            "\u001b[1m375/375\u001b[0m \u001b[32m━━━━━━━━━━━━━━━━━━━━\u001b[0m\u001b[37m\u001b[0m \u001b[1m39s\u001b[0m 103ms/step - accuracy: 0.9985 - loss: 0.0041 - val_accuracy: 0.9922 - val_loss: 0.0583\n",
            "Epoch 50/50\n",
            "\u001b[1m375/375\u001b[0m \u001b[32m━━━━━━━━━━━━━━━━━━━━\u001b[0m\u001b[37m\u001b[0m \u001b[1m41s\u001b[0m 102ms/step - accuracy: 0.9972 - loss: 0.0075 - val_accuracy: 0.9927 - val_loss: 0.0509\n"
          ]
        }
      ]
    },
    {
      "cell_type": "code",
      "source": [
        "# Predict on test data\n",
        "y_pred_mnist = model_mnist.predict(x_test_mnist)\n",
        "y_pred_mnist_classes = np.argmax(y_pred_mnist, axis=1)\n",
        "y_test_mnist_classes = np.argmax(y_test_mnist, axis=1)\n",
        "\n",
        "# Calculate metrics\n",
        "accuracy = accuracy_score(y_test_mnist_classes, y_pred_mnist_classes)\n",
        "precision = precision_score(y_test_mnist_classes, y_pred_mnist_classes, average='weighted')\n",
        "recall = recall_score(y_test_mnist_classes, y_pred_mnist_classes, average='weighted')\n",
        "f1 = f1_score(y_test_mnist_classes, y_pred_mnist_classes, average='weighted')\n",
        "conf_matrix = confusion_matrix(y_test_mnist_classes, y_pred_mnist_classes)\n",
        "\n",
        "# ROC and AUC\n",
        "fpr, tpr, _ = roc_curve(y_test_mnist_classes, y_pred_mnist[:, 1], pos_label=1)\n",
        "roc_auc = auc(fpr, tpr)\n",
        "\n",
        "# Print results\n",
        "print(f\"MNIST Accuracy: {accuracy:.4f}\")\n",
        "print(f\"Precision: {precision:.4f}\")\n",
        "print(f\"Recall: {recall:.4f}\")\n",
        "print(f\"F1-Score: {f1:.4f}\")\n",
        "print(\"Confusion Matrix:\")\n",
        "print(conf_matrix)\n",
        "print(f\"AUC: {roc_auc:.4f}\")\n",
        "\n",
        "# Plot ROC Curve\n",
        "plt.figure()\n",
        "plt.plot(fpr, tpr, color='darkorange', lw=2, label=f'ROC curve (AUC = {roc_auc:.2f})')\n",
        "plt.plot([0, 1], [0, 1], color='navy', lw=2, linestyle='--')\n",
        "plt.xlabel('False Positive Rate')\n",
        "plt.ylabel('True Positive Rate')\n",
        "plt.title('ROC Curve for MNIST')\n",
        "plt.legend(loc=\"lower right\")\n",
        "plt.show()"
      ],
      "metadata": {
        "colab": {
          "base_uri": "https://localhost:8080/",
          "height": 767
        },
        "id": "0gqdeVfZehsa",
        "outputId": "01019d4c-6268-480f-8b78-4f90bda6a135"
      },
      "execution_count": 6,
      "outputs": [
        {
          "output_type": "stream",
          "name": "stdout",
          "text": [
            "\u001b[1m313/313\u001b[0m \u001b[32m━━━━━━━━━━━━━━━━━━━━\u001b[0m\u001b[37m\u001b[0m \u001b[1m3s\u001b[0m 8ms/step\n",
            "MNIST Accuracy: 0.9931\n",
            "Precision: 0.9931\n",
            "Recall: 0.9931\n",
            "F1-Score: 0.9931\n",
            "Confusion Matrix:\n",
            "[[ 974    1    1    0    0    0    2    1    1    0]\n",
            " [   0 1130    2    1    0    0    0    2    0    0]\n",
            " [   1    0 1026    0    0    0    0    3    2    0]\n",
            " [   0    0    1 1006    0    2    0    0    1    0]\n",
            " [   0    0    0    0  977    0    1    1    1    2]\n",
            " [   0    0    0    6    0  882    1    1    2    0]\n",
            " [   5    2    0    0    1    2  947    0    1    0]\n",
            " [   0    1    1    0    0    0    0 1025    0    1]\n",
            " [   0    0    2    0    0    0    0    1  971    0]\n",
            " [   2    0    0    2    4    3    0    3    2  993]]\n",
            "AUC: 1.0000\n"
          ]
        },
        {
          "output_type": "display_data",
          "data": {
            "text/plain": [
              "<Figure size 640x480 with 1 Axes>"
            ],
            "image/png": "[encoded data removed]"
          },
          "metadata": {}
        }
      ]
    },
    {
      "cell_type": "code",
      "source": [
        "# Load CIFAR-10 dataset\n",
        "(x_train_cifar, y_train_cifar), (x_test_cifar, y_test_cifar) = cifar10.load_data()\n",
        "\n",
        "# Normalize data\n",
        "x_train_cifar = x_train_cifar.astype('float32') / 255.0\n",
        "x_test_cifar = x_test_cifar.astype('float32') / 255.0\n",
        "\n",
        "# One-hot encode labels\n",
        "y_train_cifar = to_categorical(y_train_cifar, 10)\n",
        "y_test_cifar = to_categorical(y_test_cifar, 10)"
      ],
      "metadata": {
        "colab": {
          "base_uri": "https://localhost:8080/"
        },
        "id": "W8Tw639zelPZ",
        "outputId": "d3f087c4-c448-4e85-c499-20233fbf77ae"
      },
      "execution_count": 7,
      "outputs": [
        {
          "output_type": "stream",
          "name": "stdout",
          "text": [
            "Downloading data from https://www.cs.toronto.edu/~kriz/cifar-10-python.tar.gz\n",
            "\u001b[1m170498071/170498071\u001b[0m \u001b[32m━━━━━━━━━━━━━━━━━━━━\u001b[0m\u001b[37m\u001b[0m \u001b[1m2s\u001b[0m 0us/step\n"
          ]
        }
      ]
    },
    {
      "cell_type": "code",
      "source": [
        "# Define CNN model\n",
        "model_cifar = Sequential([\n",
        "    Conv2D(32, (3, 3), activation='relu', input_shape=(32, 32, 3)),\n",
        "    MaxPooling2D((2, 2)),\n",
        "    Conv2D(64, (3, 3), activation='relu'),\n",
        "    MaxPooling2D((2, 2)),\n",
        "    Flatten(),\n",
        "    Dense(128, activation='relu'),\n",
        "    Dropout(0.5),\n",
        "    Dense(10, activation='softmax')\n",
        "])\n",
        "\n",
        "# Compile the model\n",
        "model_cifar.compile(optimizer='adam', loss='categorical_crossentropy', metrics=['accuracy'])\n",
        "\n",
        "# Train the model\n",
        "history_cifar = model_cifar.fit(x_train_cifar, y_train_cifar, epochs=1, batch_size=128, validation_split=0.2)"
      ],
      "metadata": {
        "colab": {
          "base_uri": "https://localhost:8080/"
        },
        "id": "TH9qTQsZeoB4",
        "outputId": "82ac5496-cd7f-4396-e44f-3186e792994f"
      },
      "execution_count": 9,
      "outputs": [
        {
          "output_type": "stream",
          "name": "stdout",
          "text": [
            "\u001b[1m313/313\u001b[0m \u001b[32m━━━━━━━━━━━━━━━━━━━━\u001b[0m\u001b[37m\u001b[0m \u001b[1m77s\u001b[0m 238ms/step - accuracy: 0.2718 - loss: 1.9824 - val_accuracy: 0.5028 - val_loss: 1.4296\n"
          ]
        }
      ]
    },
    {
      "cell_type": "code",
      "source": [
        "# Predict on test data\n",
        "y_pred_cifar = model_cifar.predict(x_test_cifar)\n",
        "y_pred_cifar_classes = np.argmax(y_pred_cifar, axis=1)\n",
        "y_test_cifar_classes = np.argmax(y_test_cifar, axis=1)\n",
        "\n",
        "# Calculate metrics\n",
        "accuracy = accuracy_score(y_test_cifar_classes, y_pred_cifar_classes)\n",
        "precision = precision_score(y_test_cifar_classes, y_pred_cifar_classes, average='weighted')\n",
        "recall = recall_score(y_test_cifar_classes, y_pred_cifar_classes, average='weighted')\n",
        "f1 = f1_score(y_test_cifar_classes, y_pred_cifar_classes, average='weighted')\n",
        "conf_matrix = confusion_matrix(y_test_cifar_classes, y_pred_cifar_classes)\n",
        "\n",
        "# ROC and AUC\n",
        "fpr, tpr, _ = roc_curve(y_test_cifar_classes, y_pred_cifar[:, 1], pos_label=1)\n",
        "roc_auc = auc(fpr, tpr)\n",
        "\n",
        "# Print results\n",
        "print(f\"CIFAR-10 Accuracy: {accuracy:.4f}\")\n",
        "print(f\"Precision: {precision:.4f}\")\n",
        "print(f\"Recall: {recall:.4f}\")\n",
        "print(f\"F1-Score: {f1:.4f}\")\n",
        "print(\"Confusion Matrix:\")\n",
        "print(conf_matrix)\n",
        "print(f\"AUC: {roc_auc:.4f}\")\n",
        "\n",
        "# Plot ROC Curve\n",
        "plt.figure()\n",
        "plt.plot(fpr, tpr, color='darkorange', lw=2, label=f'ROC curve (AUC = {roc_auc:.2f})')\n",
        "plt.plot([0, 1], [0, 1], color='navy', lw=2, linestyle='--')\n",
        "plt.xlabel('False Positive Rate')\n",
        "plt.ylabel('True Positive Rate')\n",
        "plt.title('ROC Curve for CIFAR-10')\n",
        "plt.legend(loc=\"lower right\")\n",
        "plt.show()"
      ],
      "metadata": {
        "colab": {
          "base_uri": "https://localhost:8080/",
          "height": 767
        },
        "id": "xKXbCrKmeqkL",
        "outputId": "644c85c9-eb52-4995-e57c-55afa5bbfde2"
      },
      "execution_count": 10,
      "outputs": [
        {
          "output_type": "stream",
          "name": "stdout",
          "text": [
            "\u001b[1m313/313\u001b[0m \u001b[32m━━━━━━━━━━━━━━━━━━━━\u001b[0m\u001b[37m\u001b[0m \u001b[1m6s\u001b[0m 18ms/step\n",
            "CIFAR-10 Accuracy: 0.5071\n",
            "Precision: 0.5096\n",
            "Recall: 0.5071\n",
            "F1-Score: 0.5025\n",
            "Confusion Matrix:\n",
            "[[521  49  60  30  22  11  28  42 152  85]\n",
            " [ 23 616   5  15   5   7  34  30  48 217]\n",
            " [ 75  14 302 140 149  78 116  78  29  19]\n",
            " [ 11  13  68 442  51 137 157  74   9  38]\n",
            " [ 33   6 124 105 369  39 175 118  18  13]\n",
            " [  5   6  77 323  68 335  65  94  16  11]\n",
            " [  4  10  32  85  95  20 697  22   5  30]\n",
            " [  9   8  21  84  72  80  64 614  11  37]\n",
            " [177  97  23  29   5  12  20  19 526  92]\n",
            " [ 31  99   9  24   6  12  58  55  57 649]]\n",
            "AUC: 0.9420\n"
          ]
        },
        {
          "output_type": "display_data",
          "data": {
            "text/plain": [
              "<Figure size 640x480 with 1 Axes>"
            ],
            "image/png": "[encoded data removed]"
          },
          "metadata": {}
        }
      ]
    },
    {
      "cell_type": "code",
      "source": [
        "import torch\n",
        "import torch.nn as nn\n",
        "import torch.optim as optim\n",
        "from torch.utils.data import DataLoader, TensorDataset\n",
        "from torchvision import datasets, transforms\n",
        "import numpy as np\n",
        "from sklearn.metrics import accuracy_score, precision_score, recall_score, f1_score, confusion_matrix, roc_curve, auc\n",
        "import matplotlib.pyplot as plt"
      ],
      "metadata": {
        "id": "_95qZYwnuC6-"
      },
      "execution_count": 11,
      "outputs": []
    },
    {
      "cell_type": "code",
      "source": [
        "# Define transformations\n",
        "transform_mnist = transforms.Compose([\n",
        "    transforms.ToTensor(),\n",
        "    transforms.Normalize((0.1307,), (0.3081,))  # Normalize with mean and std of MNIST\n",
        "])\n",
        "\n",
        "# Load MNIST dataset\n",
        "train_dataset_mnist = datasets.MNIST(root='./data', train=True, download=True, transform=transform_mnist)\n",
        "test_dataset_mnist = datasets.MNIST(root='./data', train=False, download=True, transform=transform_mnist)\n",
        "\n",
        "# Create data loaders\n",
        "train_loader_mnist = DataLoader(train_dataset_mnist, batch_size=128, shuffle=True)\n",
        "test_loader_mnist = DataLoader(test_dataset_mnist, batch_size=128, shuffle=False)"
      ],
      "metadata": {
        "colab": {
          "base_uri": "https://localhost:8080/"
        },
        "id": "NLUJznhOuGlA",
        "outputId": "6df93aa0-3465-4f74-8faa-6ebcde90f390"
      },
      "execution_count": 12,
      "outputs": [
        {
          "output_type": "stream",
          "name": "stdout",
          "text": [
            "Downloading http://yann.lecun.com/exdb/mnist/train-images-idx3-ubyte.gz\n",
            "Failed to download (trying next):\n",
            "HTTP Error 404: Not Found\n",
            "\n",
            "Downloading https://ossci-datasets.s3.amazonaws.com/mnist/train-images-idx3-ubyte.gz\n",
            "Downloading https://ossci-datasets.s3.amazonaws.com/mnist/train-images-idx3-ubyte.gz to ./data/MNIST/raw/train-images-idx3-ubyte.gz\n"
          ]
        },
        {
          "output_type": "stream",
          "name": "stderr",
          "text": [
            "100%|██████████| 9.91M/9.91M [00:00<00:00, 37.9MB/s]\n"
          ]
        },
        {
          "output_type": "stream",
          "name": "stdout",
          "text": [
            "Extracting ./data/MNIST/raw/train-images-idx3-ubyte.gz to ./data/MNIST/raw\n",
            "\n",
            "Downloading http://yann.lecun.com/exdb/mnist/train-labels-idx1-ubyte.gz\n",
            "Failed to download (trying next):\n",
            "HTTP Error 404: Not Found\n",
            "\n",
            "Downloading https://ossci-datasets.s3.amazonaws.com/mnist/train-labels-idx1-ubyte.gz\n",
            "Downloading https://ossci-datasets.s3.amazonaws.com/mnist/train-labels-idx1-ubyte.gz to ./data/MNIST/raw/train-labels-idx1-ubyte.gz\n"
          ]
        },
        {
          "output_type": "stream",
          "name": "stderr",
          "text": [
            "100%|██████████| 28.9k/28.9k [00:00<00:00, 1.23MB/s]\n"
          ]
        },
        {
          "output_type": "stream",
          "name": "stdout",
          "text": [
            "Extracting ./data/MNIST/raw/train-labels-idx1-ubyte.gz to ./data/MNIST/raw\n",
            "\n",
            "Downloading http://yann.lecun.com/exdb/mnist/t10k-images-idx3-ubyte.gz\n",
            "Failed to download (trying next):\n",
            "HTTP Error 404: Not Found\n",
            "\n",
            "Downloading https://ossci-datasets.s3.amazonaws.com/mnist/t10k-images-idx3-ubyte.gz\n",
            "Downloading https://ossci-datasets.s3.amazonaws.com/mnist/t10k-images-idx3-ubyte.gz to ./data/MNIST/raw/t10k-images-idx3-ubyte.gz\n"
          ]
        },
        {
          "output_type": "stream",
          "name": "stderr",
          "text": [
            "100%|██████████| 1.65M/1.65M [00:00<00:00, 7.81MB/s]\n"
          ]
        },
        {
          "output_type": "stream",
          "name": "stdout",
          "text": [
            "Extracting ./data/MNIST/raw/t10k-images-idx3-ubyte.gz to ./data/MNIST/raw\n",
            "\n",
            "Downloading http://yann.lecun.com/exdb/mnist/t10k-labels-idx1-ubyte.gz\n",
            "Failed to download (trying next):\n",
            "HTTP Error 404: Not Found\n",
            "\n",
            "Downloading https://ossci-datasets.s3.amazonaws.com/mnist/t10k-labels-idx1-ubyte.gz\n",
            "Downloading https://ossci-datasets.s3.amazonaws.com/mnist/t10k-labels-idx1-ubyte.gz to ./data/MNIST/raw/t10k-labels-idx1-ubyte.gz\n"
          ]
        },
        {
          "output_type": "stream",
          "name": "stderr",
          "text": [
            "100%|██████████| 4.54k/4.54k [00:00<00:00, 2.91MB/s]"
          ]
        },
        {
          "output_type": "stream",
          "name": "stdout",
          "text": [
            "Extracting ./data/MNIST/raw/t10k-labels-idx1-ubyte.gz to ./data/MNIST/raw\n",
            "\n"
          ]
        },
        {
          "output_type": "stream",
          "name": "stderr",
          "text": [
            "\n"
          ]
        }
      ]
    },
    {
      "cell_type": "code",
      "source": [
        "class CNN_MNIST(nn.Module):\n",
        "    def __init__(self):\n",
        "        super(CNN_MNIST, self).__init__()\n",
        "        self.conv1 = nn.Conv2d(1, 32, kernel_size=3, stride=1, padding=1)\n",
        "        self.pool = nn.MaxPool2d(kernel_size=2, stride=2, padding=0)\n",
        "        self.conv2 = nn.Conv2d(32, 64, kernel_size=3, stride=1, padding=1)\n",
        "        self.fc1 = nn.Linear(64 * 7 * 7, 128)\n",
        "        self.dropout = nn.Dropout(0.5)\n",
        "        self.fc2 = nn.Linear(128, 10)\n",
        "\n",
        "    def forward(self, x):\n",
        "        x = self.pool(nn.functional.relu(self.conv1(x)))\n",
        "        x = self.pool(nn.functional.relu(self.conv2(x)))\n",
        "        x = x.view(-1, 64 * 7 * 7)  # Flatten\n",
        "        x = nn.functional.relu(self.fc1(x))\n",
        "        x = self.dropout(x)\n",
        "        x = self.fc2(x)\n",
        "        return x\n",
        "\n",
        "# Initialize model, loss function, and optimizer\n",
        "model_mnist = CNN_MNIST()\n",
        "criterion = nn.CrossEntropyLoss()\n",
        "optimizer = optim.Adam(model_mnist.parameters(), lr=0.001)"
      ],
      "metadata": {
        "id": "_G73IXK0uMEw"
      },
      "execution_count": 13,
      "outputs": []
    },
    {
      "cell_type": "code",
      "source": [
        "# Training loop\n",
        "epochs = 1\n",
        "for epoch in range(epochs):\n",
        "    model_mnist.train()\n",
        "    running_loss = 0.0\n",
        "    for images, labels in train_loader_mnist:\n",
        "        optimizer.zero_grad()\n",
        "        outputs = model_mnist(images)\n",
        "        loss = criterion(outputs, labels)\n",
        "        loss.backward()\n",
        "        optimizer.step()\n",
        "        running_loss += loss.item()\n",
        "    print(f\"Epoch [{epoch+1}/{epochs}], Loss: {running_loss/len(train_loader_mnist):.4f}\")"
      ],
      "metadata": {
        "colab": {
          "base_uri": "https://localhost:8080/"
        },
        "id": "TKoFCdCRuQLS",
        "outputId": "a0e0a9d0-6fc5-4668-80d2-a77a9ba17c64"
      },
      "execution_count": 14,
      "outputs": [
        {
          "output_type": "stream",
          "name": "stdout",
          "text": [
            "Epoch [1/1], Loss: 0.2754\n"
          ]
        }
      ]
    },
    {
      "cell_type": "code",
      "source": [
        "model_mnist.eval()\n",
        "y_true_mnist = []\n",
        "y_pred_mnist = []\n",
        "y_scores_mnist = []\n",
        "\n",
        "with torch.no_grad():\n",
        "    for images, labels in test_loader_mnist:\n",
        "        outputs = model_mnist(images)\n",
        "        _, predicted = torch.max(outputs, 1)\n",
        "        y_true_mnist.extend(labels.numpy())\n",
        "        y_pred_mnist.extend(predicted.numpy())\n",
        "        y_scores_mnist.extend(outputs[:, 1].numpy())  # Scores for ROC\n",
        "\n",
        "# Calculate metrics\n",
        "accuracy = accuracy_score(y_true_mnist, y_pred_mnist)\n",
        "precision = precision_score(y_true_mnist, y_pred_mnist, average='weighted')\n",
        "recall = recall_score(y_true_mnist, y_pred_mnist, average='weighted')\n",
        "f1 = f1_score(y_true_mnist, y_pred_mnist, average='weighted')\n",
        "conf_matrix = confusion_matrix(y_true_mnist, y_pred_mnist)\n",
        "\n",
        "# ROC and AUC\n",
        "fpr, tpr, _ = roc_curve(y_true_mnist, y_scores_mnist, pos_label=1)\n",
        "roc_auc = auc(fpr, tpr)\n",
        "\n",
        "# Print results\n",
        "print(f\"MNIST Accuracy: {accuracy:.4f}\")\n",
        "print(f\"Precision: {precision:.4f}\")\n",
        "print(f\"Recall: {recall:.4f}\")\n",
        "print(f\"F1-Score: {f1:.4f}\")\n",
        "print(\"Confusion Matrix:\")\n",
        "print(conf_matrix)\n",
        "print(f\"AUC: {roc_auc:.4f}\")\n",
        "\n",
        "# Plot ROC Curve\n",
        "plt.figure()\n",
        "plt.plot(fpr, tpr, color='darkorange', lw=2, label=f'ROC curve (AUC = {roc_auc:.2f})')\n",
        "plt.plot([0, 1], [0, 1], color='navy', lw=2, linestyle='--')\n",
        "plt.xlabel('False Positive Rate')\n",
        "plt.ylabel('True Positive Rate')\n",
        "plt.title('ROC Curve for MNIST')\n",
        "plt.legend(loc=\"lower right\")\n",
        "plt.show()"
      ],
      "metadata": {
        "colab": {
          "base_uri": "https://localhost:8080/",
          "height": 750
        },
        "id": "LW-fDTgPuUN_",
        "outputId": "e6ff0cef-237c-4f26-e080-71bbbe4aaac9"
      },
      "execution_count": 15,
      "outputs": [
        {
          "output_type": "stream",
          "name": "stdout",
          "text": [
            "MNIST Accuracy: 0.9838\n",
            "Precision: 0.9839\n",
            "Recall: 0.9838\n",
            "F1-Score: 0.9838\n",
            "Confusion Matrix:\n",
            "[[ 974    0    3    0    0    0    1    1    1    0]\n",
            " [   0 1128    3    1    0    1    1    0    1    0]\n",
            " [   2    0 1025    1    1    0    0    2    1    0]\n",
            " [   0    0    2  998    0    5    0    3    2    0]\n",
            " [   0    0    2    0  969    0    1    0    3    7]\n",
            " [   3    0    1    3    0  879    2    1    1    2]\n",
            " [  12    3    1    0    3    2  936    0    1    0]\n",
            " [   1    4   15    4    0    0    0 1001    2    1]\n",
            " [   3    1    3    3    1    0    1    3  954    5]\n",
            " [   5    7    0    3    6    6    0    6    2  974]]\n",
            "AUC: 0.9997\n"
          ]
        },
        {
          "output_type": "display_data",
          "data": {
            "text/plain": [
              "<Figure size 640x480 with 1 Axes>"
            ],
            "image/png": "[encoded data removed]"
          },
          "metadata": {}
        }
      ]
    },
    {
      "cell_type": "code",
      "source": [
        "# Define transformations\n",
        "transform_cifar = transforms.Compose([\n",
        "    transforms.ToTensor(),\n",
        "    transforms.Normalize((0.5, 0.5, 0.5), (0.5, 0.5, 0.5))  # Normalize with mean and std of CIFAR-10\n",
        "])\n",
        "\n",
        "# Load CIFAR-10 dataset\n",
        "train_dataset_cifar = datasets.CIFAR10(root='./data', train=True, download=True, transform=transform_cifar)\n",
        "test_dataset_cifar = datasets.CIFAR10(root='./data', train=False, download=True, transform=transform_cifar)\n",
        "\n",
        "# Create data loaders\n",
        "train_loader_cifar = DataLoader(train_dataset_cifar, batch_size=128, shuffle=True)\n",
        "test_loader_cifar = DataLoader(test_dataset_cifar, batch_size=128, shuffle=False)"
      ],
      "metadata": {
        "colab": {
          "base_uri": "https://localhost:8080/"
        },
        "id": "P69cNTzRuXM2",
        "outputId": "a75ed22b-c110-4ff3-bc80-f4dc55fa9d92"
      },
      "execution_count": 16,
      "outputs": [
        {
          "output_type": "stream",
          "name": "stdout",
          "text": [
            "Downloading https://www.cs.toronto.edu/~kriz/cifar-10-python.tar.gz to ./data/cifar-10-python.tar.gz\n"
          ]
        },
        {
          "output_type": "stream",
          "name": "stderr",
          "text": [
            "100%|██████████| 170M/170M [00:01<00:00, 90.2MB/s]\n"
          ]
        },
        {
          "output_type": "stream",
          "name": "stdout",
          "text": [
            "Extracting ./data/cifar-10-python.tar.gz to ./data\n",
            "Files already downloaded and verified\n"
          ]
        }
      ]
    },
    {
      "cell_type": "code",
      "source": [
        "class CNN_CIFAR(nn.Module):\n",
        "    def __init__(self):\n",
        "        super(CNN_CIFAR, self).__init__()\n",
        "        self.conv1 = nn.Conv2d(3, 32, kernel_size=3, stride=1, padding=1)\n",
        "        self.pool = nn.MaxPool2d(kernel_size=2, stride=2, padding=0)\n",
        "        self.conv2 = nn.Conv2d(32, 64, kernel_size=3, stride=1, padding=1)\n",
        "        self.fc1 = nn.Linear(64 * 8 * 8, 128)\n",
        "        self.dropout = nn.Dropout(0.5)\n",
        "        self.fc2 = nn.Linear(128, 10)\n",
        "\n",
        "    def forward(self, x):\n",
        "        x = self.pool(nn.functional.relu(self.conv1(x)))\n",
        "        x = self.pool(nn.functional.relu(self.conv2(x)))\n",
        "        x = x.view(-1, 64 * 8 * 8)  # Flatten\n",
        "        x = nn.functional.relu(self.fc1(x))\n",
        "        x = self.dropout(x)\n",
        "        x = self.fc2(x)\n",
        "        return x\n",
        "\n",
        "# Initialize model, loss function, and optimizer\n",
        "model_cifar = CNN_CIFAR()\n",
        "criterion = nn.CrossEntropyLoss()\n",
        "optimizer = optim.Adam(model_cifar.parameters(), lr=0.001)"
      ],
      "metadata": {
        "id": "qXFgbeo_uZ_j"
      },
      "execution_count": 17,
      "outputs": []
    },
    {
      "cell_type": "code",
      "source": [
        "# Training loop\n",
        "epochs = 1\n",
        "for epoch in range(epochs):\n",
        "    model_cifar.train()\n",
        "    running_loss = 0.0\n",
        "    for images, labels in train_loader_cifar:\n",
        "        optimizer.zero_grad()\n",
        "        outputs = model_cifar(images)\n",
        "        loss = criterion(outputs, labels)\n",
        "        loss.backward()\n",
        "        optimizer.step()\n",
        "        running_loss += loss.item()\n",
        "    print(f\"Epoch [{epoch+1}/{epochs}], Loss: {running_loss/len(train_loader_cifar):.4f}\")"
      ],
      "metadata": {
        "colab": {
          "base_uri": "https://localhost:8080/"
        },
        "id": "ueEcBpL2ucuC",
        "outputId": "2f8ae26c-dc4f-4105-f1e0-28085802743b"
      },
      "execution_count": 18,
      "outputs": [
        {
          "output_type": "stream",
          "name": "stdout",
          "text": [
            "Epoch [1/1], Loss: 1.6177\n"
          ]
        }
      ]
    },
    {
      "cell_type": "code",
      "source": [
        "model_cifar.eval()\n",
        "y_true_cifar = []\n",
        "y_pred_cifar = []\n",
        "y_scores_cifar = []\n",
        "\n",
        "with torch.no_grad():\n",
        "    for images, labels in test_loader_cifar:\n",
        "        outputs = model_cifar(images)\n",
        "        _, predicted = torch.max(outputs, 1)\n",
        "        y_true_cifar.extend(labels.numpy())\n",
        "        y_pred_cifar.extend(predicted.numpy())\n",
        "        y_scores_cifar.extend(outputs[:, 1].numpy())  # Scores for ROC\n",
        "\n",
        "# Calculate metrics\n",
        "accuracy = accuracy_score(y_true_cifar, y_pred_cifar)\n",
        "precision = precision_score(y_true_cifar, y_pred_cifar, average='weighted')\n",
        "recall = recall_score(y_true_cifar, y_pred_cifar, average='weighted')\n",
        "f1 = f1_score(y_true_cifar, y_pred_cifar, average='weighted')\n",
        "conf_matrix = confusion_matrix(y_true_cifar, y_pred_cifar)\n",
        "\n",
        "# ROC and AUC\n",
        "fpr, tpr, _ = roc_curve(y_true_cifar, y_scores_cifar, pos_label=1)\n",
        "roc_auc = auc(fpr, tpr)\n",
        "\n",
        "# Print results\n",
        "print(f\"CIFAR-10 Accuracy: {accuracy:.4f}\")\n",
        "print(f\"Precision: {precision:.4f}\")\n",
        "print(f\"Recall: {recall:.4f}\")\n",
        "print(f\"F1-Score: {f1:.4f}\")\n",
        "print(\"Confusion Matrix:\")\n",
        "print(conf_matrix)\n",
        "print(f\"AUC: {roc_auc:.4f}\")\n",
        "\n",
        "# Plot ROC Curve\n",
        "plt.figure()\n",
        "plt.plot(fpr, tpr, color='darkorange', lw=2, label=f'ROC curve (AUC = {roc_auc:.2f})')\n",
        "plt.plot([0, 1], [0, 1], color='navy', lw=2, linestyle='--')\n",
        "plt.xlabel('False Positive Rate')\n",
        "plt.ylabel('True Positive Rate')\n",
        "plt.title('ROC Curve for CIFAR-10')\n",
        "plt.legend(loc=\"lower right\")\n",
        "plt.show()"
      ],
      "metadata": {
        "colab": {
          "base_uri": "https://localhost:8080/",
          "height": 750
        },
        "id": "jSjInEzBueTt",
        "outputId": "132c9745-8476-4d2a-b5bd-bda4bce7edb5"
      },
      "execution_count": 19,
      "outputs": [
        {
          "output_type": "stream",
          "name": "stdout",
          "text": [
            "CIFAR-10 Accuracy: 0.5439\n",
            "Precision: 0.5500\n",
            "Recall: 0.5439\n",
            "F1-Score: 0.5415\n",
            "Confusion Matrix:\n",
            "[[553  37  66  37  12   5  17  15 225  33]\n",
            " [ 40 739   7  12  10   3   9   8  83  89]\n",
            " [ 90  10 354 138 178  65  68  48  36  13]\n",
            " [ 23  20  89 473  72 144  87  44  26  22]\n",
            " [ 44  12 166 113 441  34  74  87  24   5]\n",
            " [ 12   4  79 301  64 377  36  95  27   5]\n",
            " [  7  16  61 113 123  13 628  14  14  11]\n",
            " [ 25   3  24 104  92  63  21 620  11  37]\n",
            " [ 85  59  20  20   5   6   4   8 765  28]\n",
            " [ 34 256  10  26   7   7  26  29 116 489]]\n",
            "AUC: 0.9369\n"
          ]
        },
        {
          "output_type": "display_data",
          "data": {
            "text/plain": [
              "<Figure size 640x480 with 1 Axes>"
            ],
            "image/png": "[encoded data removed]"
          },
          "metadata": {}
        }
      ]
    },
    {
      "cell_type": "code",
      "source": [],
      "metadata": {
        "id": "BBimrI5DuhrA"
      },
      "execution_count": null,
      "outputs": []
    }
  ]
}
